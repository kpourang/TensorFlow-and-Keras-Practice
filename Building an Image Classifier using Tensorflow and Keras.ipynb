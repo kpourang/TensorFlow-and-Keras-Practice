{
 "cells": [
  {
   "cell_type": "markdown",
   "metadata": {},
   "source": [
    "# Checking Tensorflow and Keras Versions"
   ]
  },
  {
   "cell_type": "code",
   "execution_count": 48,
   "metadata": {},
   "outputs": [
    {
     "name": "stdout",
     "output_type": "stream",
     "text": [
      "2.5.0\n",
      "2.5.0\n"
     ]
    }
   ],
   "source": [
    "import tensorflow as tf\n",
    "from tensorflow import keras\n",
    "\n",
    "print(tf.__version__)\n",
    "print(keras.__version__)"
   ]
  },
  {
   "cell_type": "markdown",
   "metadata": {},
   "source": [
    "# Using Keras to Load the Dataset"
   ]
  },
  {
   "cell_type": "code",
   "execution_count": 49,
   "metadata": {},
   "outputs": [],
   "source": [
    "fashion_mnist = keras.datasets.fashion_mnist\n",
    "(X_train_full, y_train_full), (X_test, y_test) = fashion_mnist.load_data()"
   ]
  },
  {
   "cell_type": "code",
   "execution_count": 50,
   "metadata": {},
   "outputs": [
    {
     "data": {
      "text/plain": [
       "(60000, 28, 28)"
      ]
     },
     "execution_count": 50,
     "metadata": {},
     "output_type": "execute_result"
    }
   ],
   "source": [
    "X_train_full.shape"
   ]
  },
  {
   "cell_type": "code",
   "execution_count": 51,
   "metadata": {},
   "outputs": [
    {
     "data": {
      "text/plain": [
       "dtype('uint8')"
      ]
     },
     "execution_count": 51,
     "metadata": {},
     "output_type": "execute_result"
    }
   ],
   "source": [
    "X_train_full.dtype"
   ]
  },
  {
   "cell_type": "code",
   "execution_count": 52,
   "metadata": {},
   "outputs": [],
   "source": [
    "X_valid, X_train = X_train_full[:5000] / 255, X_train_full[5000:] / 255\n",
    "y_valid, y_train = y_train_full[:5000], y_train_full[5000:]"
   ]
  },
  {
   "cell_type": "code",
   "execution_count": 53,
   "metadata": {},
   "outputs": [],
   "source": [
    "class_names = ['T-shirt/top', 'Trouser', 'Pullover', 'Dress', 'Coat', 'Sandal', 'Shirt', \\\n",
    "              'Shirt', 'Sneaker', 'Bag', 'Ankle boot']"
   ]
  },
  {
   "cell_type": "code",
   "execution_count": 54,
   "metadata": {},
   "outputs": [
    {
     "data": {
      "text/plain": [
       "'Coat'"
      ]
     },
     "execution_count": 54,
     "metadata": {},
     "output_type": "execute_result"
    }
   ],
   "source": [
    "class_names[y_train[0]]"
   ]
  },
  {
   "cell_type": "markdown",
   "metadata": {},
   "source": [
    "# Creating the Model using Sequential API"
   ]
  },
  {
   "cell_type": "code",
   "execution_count": 55,
   "metadata": {},
   "outputs": [],
   "source": [
    "model = keras.models.Sequential()\n",
    "model.add(keras.layers.Flatten(input_shape = [28, 28]))\n",
    "model.add(keras.layers.Dense(300, activation = 'relu'))\n",
    "model.add(keras.layers.Dense(100, activation = 'relu'))\n",
    "model.add(keras.layers.Dense(10, activation = 'softmax'))"
   ]
  },
  {
   "cell_type": "code",
   "execution_count": 56,
   "metadata": {},
   "outputs": [
    {
     "name": "stdout",
     "output_type": "stream",
     "text": [
      "Model: \"sequential_2\"\n",
      "_________________________________________________________________\n",
      "Layer (type)                 Output Shape              Param #   \n",
      "=================================================================\n",
      "flatten_2 (Flatten)          (None, 784)               0         \n",
      "_________________________________________________________________\n",
      "dense_6 (Dense)              (None, 300)               235500    \n",
      "_________________________________________________________________\n",
      "dense_7 (Dense)              (None, 100)               30100     \n",
      "_________________________________________________________________\n",
      "dense_8 (Dense)              (None, 10)                1010      \n",
      "=================================================================\n",
      "Total params: 266,610\n",
      "Trainable params: 266,610\n",
      "Non-trainable params: 0\n",
      "_________________________________________________________________\n"
     ]
    }
   ],
   "source": [
    "model.summary()"
   ]
  },
  {
   "cell_type": "code",
   "execution_count": 57,
   "metadata": {},
   "outputs": [
    {
     "data": {
      "text/plain": [
       "[<tensorflow.python.keras.layers.core.Flatten at 0x1b8c7e6ddf0>,\n",
       " <tensorflow.python.keras.layers.core.Dense at 0x1b8c7e6d7c0>,\n",
       " <tensorflow.python.keras.layers.core.Dense at 0x1b8c7ad3310>,\n",
       " <tensorflow.python.keras.layers.core.Dense at 0x1b8c7e59520>]"
      ]
     },
     "execution_count": 57,
     "metadata": {},
     "output_type": "execute_result"
    }
   ],
   "source": [
    "model.layers"
   ]
  },
  {
   "cell_type": "code",
   "execution_count": 58,
   "metadata": {},
   "outputs": [
    {
     "data": {
      "text/plain": [
       "'dense_6'"
      ]
     },
     "execution_count": 58,
     "metadata": {},
     "output_type": "execute_result"
    }
   ],
   "source": [
    "hidden1 = model.layers[1]\n",
    "hidden1.name"
   ]
  },
  {
   "cell_type": "code",
   "execution_count": 61,
   "metadata": {},
   "outputs": [
    {
     "data": {
      "text/plain": [
       "True"
      ]
     },
     "execution_count": 61,
     "metadata": {},
     "output_type": "execute_result"
    }
   ],
   "source": [
    "model.get_layer('dense_6') is hidden1"
   ]
  },
  {
   "cell_type": "code",
   "execution_count": 62,
   "metadata": {},
   "outputs": [
    {
     "data": {
      "text/plain": [
       "array([[ 0.05266275, -0.01783933, -0.03613131, ..., -0.03851653,\n",
       "        -0.02268941,  0.07191925],\n",
       "       [-0.01669726, -0.02539321,  0.00494812, ..., -0.03106757,\n",
       "         0.03878815, -0.02483042],\n",
       "       [ 0.05154151,  0.05454604,  0.00032967, ..., -0.06340896,\n",
       "        -0.00995042,  0.05666171],\n",
       "       ...,\n",
       "       [-0.02342739, -0.06977589, -0.06624911, ..., -0.05354155,\n",
       "         0.04085145,  0.01993249],\n",
       "       [-0.03678884, -0.05914208, -0.05309342, ...,  0.03618671,\n",
       "        -0.07243792, -0.06436592],\n",
       "       [ 0.02222928,  0.03737337, -0.03620669, ..., -0.05802163,\n",
       "         0.00099009,  0.01015006]], dtype=float32)"
      ]
     },
     "execution_count": 62,
     "metadata": {},
     "output_type": "execute_result"
    }
   ],
   "source": [
    "weights, biases = hidden1.get_weights()\n",
    "weights"
   ]
  },
  {
   "cell_type": "code",
   "execution_count": 63,
   "metadata": {},
   "outputs": [
    {
     "data": {
      "text/plain": [
       "(784, 300)"
      ]
     },
     "execution_count": 63,
     "metadata": {},
     "output_type": "execute_result"
    }
   ],
   "source": [
    "weights.shape"
   ]
  },
  {
   "cell_type": "code",
   "execution_count": 64,
   "metadata": {},
   "outputs": [
    {
     "data": {
      "text/plain": [
       "array([0., 0., 0., 0., 0., 0., 0., 0., 0., 0., 0., 0., 0., 0., 0., 0., 0.,\n",
       "       0., 0., 0., 0., 0., 0., 0., 0., 0., 0., 0., 0., 0., 0., 0., 0., 0.,\n",
       "       0., 0., 0., 0., 0., 0., 0., 0., 0., 0., 0., 0., 0., 0., 0., 0., 0.,\n",
       "       0., 0., 0., 0., 0., 0., 0., 0., 0., 0., 0., 0., 0., 0., 0., 0., 0.,\n",
       "       0., 0., 0., 0., 0., 0., 0., 0., 0., 0., 0., 0., 0., 0., 0., 0., 0.,\n",
       "       0., 0., 0., 0., 0., 0., 0., 0., 0., 0., 0., 0., 0., 0., 0., 0., 0.,\n",
       "       0., 0., 0., 0., 0., 0., 0., 0., 0., 0., 0., 0., 0., 0., 0., 0., 0.,\n",
       "       0., 0., 0., 0., 0., 0., 0., 0., 0., 0., 0., 0., 0., 0., 0., 0., 0.,\n",
       "       0., 0., 0., 0., 0., 0., 0., 0., 0., 0., 0., 0., 0., 0., 0., 0., 0.,\n",
       "       0., 0., 0., 0., 0., 0., 0., 0., 0., 0., 0., 0., 0., 0., 0., 0., 0.,\n",
       "       0., 0., 0., 0., 0., 0., 0., 0., 0., 0., 0., 0., 0., 0., 0., 0., 0.,\n",
       "       0., 0., 0., 0., 0., 0., 0., 0., 0., 0., 0., 0., 0., 0., 0., 0., 0.,\n",
       "       0., 0., 0., 0., 0., 0., 0., 0., 0., 0., 0., 0., 0., 0., 0., 0., 0.,\n",
       "       0., 0., 0., 0., 0., 0., 0., 0., 0., 0., 0., 0., 0., 0., 0., 0., 0.,\n",
       "       0., 0., 0., 0., 0., 0., 0., 0., 0., 0., 0., 0., 0., 0., 0., 0., 0.,\n",
       "       0., 0., 0., 0., 0., 0., 0., 0., 0., 0., 0., 0., 0., 0., 0., 0., 0.,\n",
       "       0., 0., 0., 0., 0., 0., 0., 0., 0., 0., 0., 0., 0., 0., 0., 0., 0.,\n",
       "       0., 0., 0., 0., 0., 0., 0., 0., 0., 0., 0.], dtype=float32)"
      ]
     },
     "execution_count": 64,
     "metadata": {},
     "output_type": "execute_result"
    }
   ],
   "source": [
    "biases"
   ]
  },
  {
   "cell_type": "code",
   "execution_count": 65,
   "metadata": {},
   "outputs": [
    {
     "data": {
      "text/plain": [
       "(300,)"
      ]
     },
     "execution_count": 65,
     "metadata": {},
     "output_type": "execute_result"
    }
   ],
   "source": [
    "biases.shape"
   ]
  },
  {
   "cell_type": "markdown",
   "metadata": {},
   "source": [
    "# Compiling the Model"
   ]
  },
  {
   "cell_type": "code",
   "execution_count": 66,
   "metadata": {},
   "outputs": [],
   "source": [
    "model.compile(loss = 'sparse_categorical_crossentropy', optimizer = 'sgd', metrics = ['accuracy'])"
   ]
  },
  {
   "cell_type": "markdown",
   "metadata": {},
   "source": [
    "# Training and Evaluating the Model"
   ]
  },
  {
   "cell_type": "code",
   "execution_count": 67,
   "metadata": {},
   "outputs": [
    {
     "name": "stdout",
     "output_type": "stream",
     "text": [
      "Epoch 1/30\n",
      "1719/1719 [==============================] - 7s 4ms/step - loss: 0.7077 - accuracy: 0.7703 - val_loss: 0.5390 - val_accuracy: 0.8088\n",
      "Epoch 2/30\n",
      "1719/1719 [==============================] - 5s 3ms/step - loss: 0.4842 - accuracy: 0.8322 - val_loss: 0.4461 - val_accuracy: 0.8526\n",
      "Epoch 3/30\n",
      "1719/1719 [==============================] - 6s 4ms/step - loss: 0.4402 - accuracy: 0.8449 - val_loss: 0.4143 - val_accuracy: 0.8596\n",
      "Epoch 4/30\n",
      "1719/1719 [==============================] - 5s 3ms/step - loss: 0.4155 - accuracy: 0.8549 - val_loss: 0.3853 - val_accuracy: 0.8704\n",
      "Epoch 5/30\n",
      "1719/1719 [==============================] - 7s 4ms/step - loss: 0.3942 - accuracy: 0.8616 - val_loss: 0.3867 - val_accuracy: 0.8678\n",
      "Epoch 6/30\n",
      "1719/1719 [==============================] - 8s 5ms/step - loss: 0.3784 - accuracy: 0.8673 - val_loss: 0.3637 - val_accuracy: 0.8772\n",
      "Epoch 7/30\n",
      "1719/1719 [==============================] - 7s 4ms/step - loss: 0.3643 - accuracy: 0.8699 - val_loss: 0.4369 - val_accuracy: 0.8500\n",
      "Epoch 8/30\n",
      "1719/1719 [==============================] - 6s 4ms/step - loss: 0.3521 - accuracy: 0.8751 - val_loss: 0.3440 - val_accuracy: 0.8818\n",
      "Epoch 9/30\n",
      "1719/1719 [==============================] - 7s 4ms/step - loss: 0.3408 - accuracy: 0.8785 - val_loss: 0.3645 - val_accuracy: 0.8740\n",
      "Epoch 10/30\n",
      "1719/1719 [==============================] - 7s 4ms/step - loss: 0.3311 - accuracy: 0.8826 - val_loss: 0.3309 - val_accuracy: 0.8838\n",
      "Epoch 11/30\n",
      "1719/1719 [==============================] - 8s 4ms/step - loss: 0.3226 - accuracy: 0.8849 - val_loss: 0.3362 - val_accuracy: 0.8824\n",
      "Epoch 12/30\n",
      "1719/1719 [==============================] - 8s 4ms/step - loss: 0.3134 - accuracy: 0.8862 - val_loss: 0.3340 - val_accuracy: 0.8818\n",
      "Epoch 13/30\n",
      "1719/1719 [==============================] - 8s 4ms/step - loss: 0.3067 - accuracy: 0.8884 - val_loss: 0.3226 - val_accuracy: 0.8884\n",
      "Epoch 14/30\n",
      "1719/1719 [==============================] - 7s 4ms/step - loss: 0.2996 - accuracy: 0.8930 - val_loss: 0.3195 - val_accuracy: 0.8884\n",
      "Epoch 15/30\n",
      "1719/1719 [==============================] - 8s 5ms/step - loss: 0.2937 - accuracy: 0.8951 - val_loss: 0.3185 - val_accuracy: 0.8886\n",
      "Epoch 16/30\n",
      "1719/1719 [==============================] - 8s 4ms/step - loss: 0.2856 - accuracy: 0.8965 - val_loss: 0.3177 - val_accuracy: 0.8882\n",
      "Epoch 17/30\n",
      "1719/1719 [==============================] - 8s 4ms/step - loss: 0.2806 - accuracy: 0.8979 - val_loss: 0.3162 - val_accuracy: 0.8864\n",
      "Epoch 18/30\n",
      "1719/1719 [==============================] - 5s 3ms/step - loss: 0.2760 - accuracy: 0.9015 - val_loss: 0.3045 - val_accuracy: 0.8876\n",
      "Epoch 19/30\n",
      "1719/1719 [==============================] - 7s 4ms/step - loss: 0.2699 - accuracy: 0.9016 - val_loss: 0.3237 - val_accuracy: 0.8830\n",
      "Epoch 20/30\n",
      "1719/1719 [==============================] - 7s 4ms/step - loss: 0.2644 - accuracy: 0.9045 - val_loss: 0.3013 - val_accuracy: 0.8910\n",
      "Epoch 21/30\n",
      "1719/1719 [==============================] - 7s 4ms/step - loss: 0.2596 - accuracy: 0.9069 - val_loss: 0.3363 - val_accuracy: 0.8782\n",
      "Epoch 22/30\n",
      "1719/1719 [==============================] - 7s 4ms/step - loss: 0.2556 - accuracy: 0.9072 - val_loss: 0.3182 - val_accuracy: 0.8860\n",
      "Epoch 23/30\n",
      "1719/1719 [==============================] - 7s 4ms/step - loss: 0.2512 - accuracy: 0.9096 - val_loss: 0.3174 - val_accuracy: 0.8832\n",
      "Epoch 24/30\n",
      "1719/1719 [==============================] - 7s 4ms/step - loss: 0.2461 - accuracy: 0.9108 - val_loss: 0.3005 - val_accuracy: 0.8910\n",
      "Epoch 25/30\n",
      "1719/1719 [==============================] - 7s 4ms/step - loss: 0.2422 - accuracy: 0.9125 - val_loss: 0.3027 - val_accuracy: 0.8932\n",
      "Epoch 26/30\n",
      "1719/1719 [==============================] - 7s 4ms/step - loss: 0.2375 - accuracy: 0.9147 - val_loss: 0.2967 - val_accuracy: 0.8942\n",
      "Epoch 27/30\n",
      "1719/1719 [==============================] - 6s 4ms/step - loss: 0.2331 - accuracy: 0.9168 - val_loss: 0.3007 - val_accuracy: 0.8954\n",
      "Epoch 28/30\n",
      "1719/1719 [==============================] - 7s 4ms/step - loss: 0.2304 - accuracy: 0.9175 - val_loss: 0.3000 - val_accuracy: 0.8976\n",
      "Epoch 29/30\n",
      "1719/1719 [==============================] - 7s 4ms/step - loss: 0.2264 - accuracy: 0.9185 - val_loss: 0.2902 - val_accuracy: 0.8936\n",
      "Epoch 30/30\n",
      "1719/1719 [==============================] - 8s 4ms/step - loss: 0.2221 - accuracy: 0.9201 - val_loss: 0.3048 - val_accuracy: 0.8882\n"
     ]
    }
   ],
   "source": [
    "history = model.fit(X_train, y_train, epochs = 30, validation_data = (X_valid, y_valid))"
   ]
  },
  {
   "cell_type": "code",
   "execution_count": 68,
   "metadata": {},
   "outputs": [
    {
     "data": {
      "image/png": "[encoded data removed]",
      "text/plain": [
       "<Figure size 576x360 with 1 Axes>"
      ]
     },
     "metadata": {
      "needs_background": "light"
     },
     "output_type": "display_data"
    }
   ],
   "source": [
    "import pandas as pd\n",
    "import matplotlib.pyplot as plt\n",
    "\n",
    "pd.DataFrame(history.history).plot(figsize = (8, 5))\n",
    "plt.grid(True)\n",
    "plt.gca().set_ylim(0, 1)\n",
    "plt.show()"
   ]
  },
  {
   "cell_type": "code",
   "execution_count": 69,
   "metadata": {},
   "outputs": [
    {
     "name": "stdout",
     "output_type": "stream",
     "text": [
      "313/313 [==============================] - 1s 2ms/step - loss: 57.9899 - accuracy: 0.8543\n"
     ]
    },
    {
     "data": {
      "text/plain": [
       "[57.9898796081543, 0.8543000221252441]"
      ]
     },
     "execution_count": 69,
     "metadata": {},
     "output_type": "execute_result"
    }
   ],
   "source": [
    "model.evaluate(X_test, y_test)"
   ]
  },
  {
   "cell_type": "markdown",
   "metadata": {},
   "source": [
    "# Using the Model to Make Predictions"
   ]
  },
  {
   "cell_type": "code",
   "execution_count": 70,
   "metadata": {},
   "outputs": [
    {
     "data": {
      "text/plain": [
       "array([[0., 0., 0., 0., 0., 0., 0., 0., 0., 1.],\n",
       "       [0., 0., 1., 0., 0., 0., 0., 0., 0., 0.],\n",
       "       [0., 1., 0., 0., 0., 0., 0., 0., 0., 0.]], dtype=float32)"
      ]
     },
     "execution_count": 70,
     "metadata": {},
     "output_type": "execute_result"
    }
   ],
   "source": [
    "X_new = X_test[:3]\n",
    "y_proba = model.predict(X_new)\n",
    "y_proba.round(2)"
   ]
  },
  {
   "cell_type": "code",
   "execution_count": 76,
   "metadata": {},
   "outputs": [
    {
     "data": {
      "text/plain": [
       "array([9, 2, 1], dtype=int64)"
      ]
     },
     "execution_count": 76,
     "metadata": {},
     "output_type": "execute_result"
    }
   ],
   "source": [
    "y_pred = model.predict_classes(X_new)\n",
    "y_pred"
   ]
  },
  {
   "cell_type": "code",
   "execution_count": 72,
   "metadata": {},
   "outputs": [
    {
     "data": {
      "text/plain": [
       "array(['Bag', 'Pullover', 'Trouser'], dtype='<U11')"
      ]
     },
     "execution_count": 72,
     "metadata": {},
     "output_type": "execute_result"
    }
   ],
   "source": [
    "import numpy as np\n",
    "\n",
    "np.array(class_names)[y_pred]"
   ]
  },
  {
   "cell_type": "code",
   "execution_count": 73,
   "metadata": {},
   "outputs": [
    {
     "data": {
      "text/plain": [
       "array([9, 2, 1], dtype=uint8)"
      ]
     },
     "execution_count": 73,
     "metadata": {},
     "output_type": "execute_result"
    }
   ],
   "source": [
    "y_new = y_test[:3]\n",
    "y_new"
   ]
  },
  {
   "cell_type": "markdown",
   "metadata": {},
   "source": [
    "# TensorBoard"
   ]
  },
  {
   "cell_type": "code",
   "execution_count": 74,
   "metadata": {},
   "outputs": [],
   "source": [
    "import os\n",
    "\n",
    "root_logdir = os.path.join(os.curdir, 'mylogs')\n",
    "\n",
    "def get_run_logdir():\n",
    "    import time\n",
    "    run_id = time.strftime('run_%Y_%m_%d-%H_%M_%S')\n",
    "    return os.path.join(root_logdir, run_id)\n",
    "\n",
    "run_logdir = get_run_logdir()"
   ]
  },
  {
   "cell_type": "code",
   "execution_count": 75,
   "metadata": {
    "scrolled": true
   },
   "outputs": [
    {
     "name": "stdout",
     "output_type": "stream",
     "text": [
      "Epoch 1/30\n",
      "1719/1719 [==============================] - 6s 4ms/step - loss: 0.2190 - accuracy: 0.9218 - val_loss: 0.3111 - val_accuracy: 0.8850\n",
      "Epoch 2/30\n",
      "1719/1719 [==============================] - 5s 3ms/step - loss: 0.2151 - accuracy: 0.9226 - val_loss: 0.2947 - val_accuracy: 0.8966\n",
      "Epoch 3/30\n",
      "1719/1719 [==============================] - 4s 3ms/step - loss: 0.2111 - accuracy: 0.9238 - val_loss: 0.2864 - val_accuracy: 0.8982\n",
      "Epoch 4/30\n",
      "1719/1719 [==============================] - 4s 2ms/step - loss: 0.2081 - accuracy: 0.9266 - val_loss: 0.2850 - val_accuracy: 0.8988\n",
      "Epoch 5/30\n",
      "1719/1719 [==============================] - 5s 3ms/step - loss: 0.2040 - accuracy: 0.9280 - val_loss: 0.2918 - val_accuracy: 0.8956\n",
      "Epoch 6/30\n",
      "1719/1719 [==============================] - 4s 2ms/step - loss: 0.2008 - accuracy: 0.9278 - val_loss: 0.2987 - val_accuracy: 0.8930\n",
      "Epoch 7/30\n",
      "1719/1719 [==============================] - 4s 3ms/step - loss: 0.1981 - accuracy: 0.9295 - val_loss: 0.2881 - val_accuracy: 0.8984\n",
      "Epoch 8/30\n",
      "1719/1719 [==============================] - 6s 4ms/step - loss: 0.1945 - accuracy: 0.9305 - val_loss: 0.3015 - val_accuracy: 0.8910\n",
      "Epoch 9/30\n",
      "1719/1719 [==============================] - 6s 4ms/step - loss: 0.1908 - accuracy: 0.9325 - val_loss: 0.2952 - val_accuracy: 0.8948\n",
      "Epoch 10/30\n",
      "1719/1719 [==============================] - 4s 3ms/step - loss: 0.1881 - accuracy: 0.9328 - val_loss: 0.2876 - val_accuracy: 0.8976\n",
      "Epoch 11/30\n",
      "1719/1719 [==============================] - 8s 4ms/step - loss: 0.1854 - accuracy: 0.9335 - val_loss: 0.2811 - val_accuracy: 0.8990\n",
      "Epoch 12/30\n",
      "1719/1719 [==============================] - 6s 3ms/step - loss: 0.1823 - accuracy: 0.9348 - val_loss: 0.3022 - val_accuracy: 0.8940\n",
      "Epoch 13/30\n",
      "1719/1719 [==============================] - 7s 4ms/step - loss: 0.1786 - accuracy: 0.9357 - val_loss: 0.2869 - val_accuracy: 0.8988\n",
      "Epoch 14/30\n",
      "1719/1719 [==============================] - 6s 3ms/step - loss: 0.1768 - accuracy: 0.9366 - val_loss: 0.3012 - val_accuracy: 0.8954\n",
      "Epoch 15/30\n",
      "1719/1719 [==============================] - 5s 3ms/step - loss: 0.1736 - accuracy: 0.9381 - val_loss: 0.2969 - val_accuracy: 0.8932\n",
      "Epoch 16/30\n",
      "1719/1719 [==============================] - 7s 4ms/step - loss: 0.1727 - accuracy: 0.9379 - val_loss: 0.3371 - val_accuracy: 0.8862\n",
      "Epoch 17/30\n",
      "1719/1719 [==============================] - 8s 4ms/step - loss: 0.1685 - accuracy: 0.9411 - val_loss: 0.2969 - val_accuracy: 0.8962\n",
      "Epoch 18/30\n",
      "1719/1719 [==============================] - 6s 4ms/step - loss: 0.1656 - accuracy: 0.9411 - val_loss: 0.2927 - val_accuracy: 0.8982\n",
      "Epoch 19/30\n",
      "1719/1719 [==============================] - 7s 4ms/step - loss: 0.1617 - accuracy: 0.9426 - val_loss: 0.3014 - val_accuracy: 0.8964\n",
      "Epoch 20/30\n",
      "1719/1719 [==============================] - 7s 4ms/step - loss: 0.1597 - accuracy: 0.9435 - val_loss: 0.3080 - val_accuracy: 0.8966\n",
      "Epoch 21/30\n",
      "1719/1719 [==============================] - 7s 4ms/step - loss: 0.1574 - accuracy: 0.9441 - val_loss: 0.2920 - val_accuracy: 0.9018\n",
      "Epoch 22/30\n",
      "1719/1719 [==============================] - 7s 4ms/step - loss: 0.1560 - accuracy: 0.9438 - val_loss: 0.3067 - val_accuracy: 0.8924\n",
      "Epoch 23/30\n",
      "1719/1719 [==============================] - 5s 3ms/step - loss: 0.1523 - accuracy: 0.9451 - val_loss: 0.3074 - val_accuracy: 0.8980\n",
      "Epoch 24/30\n",
      "1719/1719 [==============================] - 6s 3ms/step - loss: 0.1510 - accuracy: 0.9460 - val_loss: 0.3142 - val_accuracy: 0.8936\n",
      "Epoch 25/30\n",
      "1719/1719 [==============================] - 6s 3ms/step - loss: 0.1480 - accuracy: 0.9483 - val_loss: 0.2894 - val_accuracy: 0.8980\n",
      "Epoch 26/30\n",
      "1719/1719 [==============================] - 7s 4ms/step - loss: 0.1442 - accuracy: 0.9483 - val_loss: 0.3529 - val_accuracy: 0.8886\n",
      "Epoch 27/30\n",
      "1719/1719 [==============================] - 7s 4ms/step - loss: 0.1435 - accuracy: 0.9495 - val_loss: 0.3012 - val_accuracy: 0.8990\n",
      "Epoch 28/30\n",
      "1719/1719 [==============================] - 7s 4ms/step - loss: 0.1406 - accuracy: 0.9500 - val_loss: 0.3047 - val_accuracy: 0.8982\n",
      "Epoch 29/30\n",
      "1719/1719 [==============================] - 6s 4ms/step - loss: 0.1384 - accuracy: 0.9512 - val_loss: 0.3104 - val_accuracy: 0.9002\n",
      "Epoch 30/30\n",
      "1719/1719 [==============================] - 7s 4ms/step - loss: 0.1356 - accuracy: 0.9525 - val_loss: 0.3098 - val_accuracy: 0.9002\n"
     ]
    }
   ],
   "source": [
    "tensorboard_cb = keras.callbacks.TensorBoard(run_logdir)\n",
    "history = model.fit(X_train, y_train, epochs = 30, validation_data = (X_valid, y_valid), callbacks = [tensorboard_cb])"
   ]
  },
  {
   "cell_type": "code",
   "execution_count": null,
   "metadata": {},
   "outputs": [],
   "source": [
    "%load_ext tensorboard\n",
    "%tensorboard --logdir = ./mylogs -- port = 6006"
   ]
  }
 ],
 "metadata": {
  "kernelspec": {
   "display_name": "Python 3",
   "language": "python",
   "name": "python3"
  },
  "language_info": {
   "codemirror_mode": {
    "name": "ipython",
    "version": 3
   },
   "file_extension": ".py",
   "mimetype": "text/x-python",
   "name": "python",
   "nbconvert_exporter": "python",
   "pygments_lexer": "ipython3",
   "version": "3.8.5"
  }
 },
 "nbformat": 4,
 "nbformat_minor": 4
}
